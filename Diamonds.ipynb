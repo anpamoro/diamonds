{
 "cells": [
  {
   "cell_type": "markdown",
   "id": "5c55d9d6",
   "metadata": {},
   "source": [
    "# Diamonds"
   ]
  },
  {
   "cell_type": "code",
   "execution_count": 1,
   "id": "8f75dc39",
   "metadata": {},
   "outputs": [],
   "source": [
    "import matplotlib.pyplot as plt\n",
    "import numpy as np\n",
    "import seaborn as sns\n",
    "import pandas as pd"
   ]
  },
  {
   "cell_type": "markdown",
   "id": "80632800",
   "metadata": {},
   "source": [
    "First, we'll load the dataset into memory. Here, we're using pandas to read a CSV file."
   ]
  },
  {
   "cell_type": "code",
   "execution_count": 2,
   "id": "8d82a1c8",
   "metadata": {},
   "outputs": [
    {
     "data": {
      "text/html": [
       "<div>\n",
       "<style scoped>\n",
       "    .dataframe tbody tr th:only-of-type {\n",
       "        vertical-align: middle;\n",
       "    }\n",
       "\n",
       "    .dataframe tbody tr th {\n",
       "        vertical-align: top;\n",
       "    }\n",
       "\n",
       "    .dataframe thead th {\n",
       "        text-align: right;\n",
       "    }\n",
       "</style>\n",
       "<table border=\"1\" class=\"dataframe\">\n",
       "  <thead>\n",
       "    <tr style=\"text-align: right;\">\n",
       "      <th></th>\n",
       "      <th>ID</th>\n",
       "      <th>carat</th>\n",
       "      <th>cut</th>\n",
       "      <th>color</th>\n",
       "      <th>clarity</th>\n",
       "      <th>depth</th>\n",
       "      <th>table</th>\n",
       "      <th>price</th>\n",
       "      <th>x</th>\n",
       "      <th>y</th>\n",
       "      <th>z</th>\n",
       "    </tr>\n",
       "  </thead>\n",
       "  <tbody>\n",
       "    <tr>\n",
       "      <th>0</th>\n",
       "      <td>0</td>\n",
       "      <td>0.23</td>\n",
       "      <td>Ideal</td>\n",
       "      <td>E</td>\n",
       "      <td>SI2</td>\n",
       "      <td>61.5</td>\n",
       "      <td>55.0</td>\n",
       "      <td>326</td>\n",
       "      <td>3.95</td>\n",
       "      <td>3.98</td>\n",
       "      <td>2.43</td>\n",
       "    </tr>\n",
       "    <tr>\n",
       "      <th>1</th>\n",
       "      <td>1</td>\n",
       "      <td>0.21</td>\n",
       "      <td>Premium</td>\n",
       "      <td>E</td>\n",
       "      <td>SI1</td>\n",
       "      <td>59.8</td>\n",
       "      <td>61.0</td>\n",
       "      <td>326</td>\n",
       "      <td>3.89</td>\n",
       "      <td>3.84</td>\n",
       "      <td>2.31</td>\n",
       "    </tr>\n",
       "    <tr>\n",
       "      <th>2</th>\n",
       "      <td>2</td>\n",
       "      <td>0.23</td>\n",
       "      <td>Good</td>\n",
       "      <td>E</td>\n",
       "      <td>VS1</td>\n",
       "      <td>56.9</td>\n",
       "      <td>65.0</td>\n",
       "      <td>327</td>\n",
       "      <td>4.05</td>\n",
       "      <td>4.07</td>\n",
       "      <td>2.31</td>\n",
       "    </tr>\n",
       "    <tr>\n",
       "      <th>3</th>\n",
       "      <td>3</td>\n",
       "      <td>0.29</td>\n",
       "      <td>Premium</td>\n",
       "      <td>I</td>\n",
       "      <td>VS2</td>\n",
       "      <td>62.4</td>\n",
       "      <td>58.0</td>\n",
       "      <td>334</td>\n",
       "      <td>4.20</td>\n",
       "      <td>4.23</td>\n",
       "      <td>2.63</td>\n",
       "    </tr>\n",
       "    <tr>\n",
       "      <th>4</th>\n",
       "      <td>4</td>\n",
       "      <td>0.31</td>\n",
       "      <td>Good</td>\n",
       "      <td>J</td>\n",
       "      <td>SI2</td>\n",
       "      <td>63.3</td>\n",
       "      <td>58.0</td>\n",
       "      <td>335</td>\n",
       "      <td>4.34</td>\n",
       "      <td>4.35</td>\n",
       "      <td>2.75</td>\n",
       "    </tr>\n",
       "  </tbody>\n",
       "</table>\n",
       "</div>"
      ],
      "text/plain": [
       "   ID  carat      cut color clarity  depth  table  price     x     y     z\n",
       "0   0   0.23    Ideal     E     SI2   61.5   55.0    326  3.95  3.98  2.43\n",
       "1   1   0.21  Premium     E     SI1   59.8   61.0    326  3.89  3.84  2.31\n",
       "2   2   0.23     Good     E     VS1   56.9   65.0    327  4.05  4.07  2.31\n",
       "3   3   0.29  Premium     I     VS2   62.4   58.0    334  4.20  4.23  2.63\n",
       "4   4   0.31     Good     J     SI2   63.3   58.0    335  4.34  4.35  2.75"
      ]
     },
     "execution_count": 2,
     "metadata": {},
     "output_type": "execute_result"
    }
   ],
   "source": [
    "df = pd.read_csv('diamonds.csv')\n",
    "df.head()"
   ]
  },
  {
   "cell_type": "markdown",
   "id": "45e20c26",
   "metadata": {},
   "source": [
    "## Exploring data"
   ]
  },
  {
   "cell_type": "markdown",
   "id": "f60ec6aa",
   "metadata": {},
   "source": [
    "We'll check for missing values and inconsistencies in the data"
   ]
  },
  {
   "cell_type": "code",
   "execution_count": 3,
   "id": "c3451b03",
   "metadata": {},
   "outputs": [
    {
     "name": "stdout",
     "output_type": "stream",
     "text": [
      "<class 'pandas.core.frame.DataFrame'>\n",
      "RangeIndex: 53930 entries, 0 to 53929\n",
      "Data columns (total 11 columns):\n",
      " #   Column   Non-Null Count  Dtype  \n",
      "---  ------   --------------  -----  \n",
      " 0   ID       53930 non-null  int64  \n",
      " 1   carat    53930 non-null  float64\n",
      " 2   cut      53930 non-null  object \n",
      " 3   color    53930 non-null  object \n",
      " 4   clarity  53930 non-null  object \n",
      " 5   depth    50968 non-null  float64\n",
      " 6   table    53930 non-null  float64\n",
      " 7   price    53930 non-null  int64  \n",
      " 8   x        52840 non-null  float64\n",
      " 9   y        53345 non-null  float64\n",
      " 10  z        53930 non-null  float64\n",
      "dtypes: float64(6), int64(2), object(3)\n",
      "memory usage: 4.5+ MB\n"
     ]
    }
   ],
   "source": [
    "df.info()"
   ]
  },
  {
   "cell_type": "code",
   "execution_count": 4,
   "id": "34c1dba7",
   "metadata": {},
   "outputs": [
    {
     "data": {
      "text/html": [
       "<div>\n",
       "<style scoped>\n",
       "    .dataframe tbody tr th:only-of-type {\n",
       "        vertical-align: middle;\n",
       "    }\n",
       "\n",
       "    .dataframe tbody tr th {\n",
       "        vertical-align: top;\n",
       "    }\n",
       "\n",
       "    .dataframe thead th {\n",
       "        text-align: right;\n",
       "    }\n",
       "</style>\n",
       "<table border=\"1\" class=\"dataframe\">\n",
       "  <thead>\n",
       "    <tr style=\"text-align: right;\">\n",
       "      <th></th>\n",
       "      <th>ID</th>\n",
       "      <th>carat</th>\n",
       "      <th>depth</th>\n",
       "      <th>table</th>\n",
       "      <th>price</th>\n",
       "      <th>x</th>\n",
       "      <th>y</th>\n",
       "      <th>z</th>\n",
       "    </tr>\n",
       "  </thead>\n",
       "  <tbody>\n",
       "    <tr>\n",
       "      <th>count</th>\n",
       "      <td>53930.000000</td>\n",
       "      <td>53930.000000</td>\n",
       "      <td>50968.000000</td>\n",
       "      <td>53930.000000</td>\n",
       "      <td>53930.000000</td>\n",
       "      <td>52840.000000</td>\n",
       "      <td>53345.000000</td>\n",
       "      <td>53930.000000</td>\n",
       "    </tr>\n",
       "    <tr>\n",
       "      <th>mean</th>\n",
       "      <td>26964.500000</td>\n",
       "      <td>0.797976</td>\n",
       "      <td>61.749425</td>\n",
       "      <td>57.457328</td>\n",
       "      <td>3933.054942</td>\n",
       "      <td>5.730617</td>\n",
       "      <td>5.733112</td>\n",
       "      <td>3.538141</td>\n",
       "    </tr>\n",
       "    <tr>\n",
       "      <th>std</th>\n",
       "      <td>15568.394346</td>\n",
       "      <td>0.474035</td>\n",
       "      <td>1.432949</td>\n",
       "      <td>2.234578</td>\n",
       "      <td>3989.628569</td>\n",
       "      <td>1.127572</td>\n",
       "      <td>1.141865</td>\n",
       "      <td>0.708909</td>\n",
       "    </tr>\n",
       "    <tr>\n",
       "      <th>min</th>\n",
       "      <td>0.000000</td>\n",
       "      <td>0.200000</td>\n",
       "      <td>43.000000</td>\n",
       "      <td>43.000000</td>\n",
       "      <td>326.000000</td>\n",
       "      <td>-6.370000</td>\n",
       "      <td>-6.610000</td>\n",
       "      <td>-4.060000</td>\n",
       "    </tr>\n",
       "    <tr>\n",
       "      <th>25%</th>\n",
       "      <td>13482.250000</td>\n",
       "      <td>0.400000</td>\n",
       "      <td>61.000000</td>\n",
       "      <td>56.000000</td>\n",
       "      <td>950.000000</td>\n",
       "      <td>4.710000</td>\n",
       "      <td>4.720000</td>\n",
       "      <td>2.910000</td>\n",
       "    </tr>\n",
       "    <tr>\n",
       "      <th>50%</th>\n",
       "      <td>26964.500000</td>\n",
       "      <td>0.700000</td>\n",
       "      <td>61.800000</td>\n",
       "      <td>57.000000</td>\n",
       "      <td>2401.000000</td>\n",
       "      <td>5.700000</td>\n",
       "      <td>5.710000</td>\n",
       "      <td>3.530000</td>\n",
       "    </tr>\n",
       "    <tr>\n",
       "      <th>75%</th>\n",
       "      <td>40446.750000</td>\n",
       "      <td>1.040000</td>\n",
       "      <td>62.500000</td>\n",
       "      <td>59.000000</td>\n",
       "      <td>5325.000000</td>\n",
       "      <td>6.540000</td>\n",
       "      <td>6.540000</td>\n",
       "      <td>4.040000</td>\n",
       "    </tr>\n",
       "    <tr>\n",
       "      <th>max</th>\n",
       "      <td>53929.000000</td>\n",
       "      <td>5.010000</td>\n",
       "      <td>79.000000</td>\n",
       "      <td>95.000000</td>\n",
       "      <td>18823.000000</td>\n",
       "      <td>10.740000</td>\n",
       "      <td>58.900000</td>\n",
       "      <td>31.800000</td>\n",
       "    </tr>\n",
       "  </tbody>\n",
       "</table>\n",
       "</div>"
      ],
      "text/plain": [
       "                 ID         carat         depth         table         price  \\\n",
       "count  53930.000000  53930.000000  50968.000000  53930.000000  53930.000000   \n",
       "mean   26964.500000      0.797976     61.749425     57.457328   3933.054942   \n",
       "std    15568.394346      0.474035      1.432949      2.234578   3989.628569   \n",
       "min        0.000000      0.200000     43.000000     43.000000    326.000000   \n",
       "25%    13482.250000      0.400000     61.000000     56.000000    950.000000   \n",
       "50%    26964.500000      0.700000     61.800000     57.000000   2401.000000   \n",
       "75%    40446.750000      1.040000     62.500000     59.000000   5325.000000   \n",
       "max    53929.000000      5.010000     79.000000     95.000000  18823.000000   \n",
       "\n",
       "                  x             y             z  \n",
       "count  52840.000000  53345.000000  53930.000000  \n",
       "mean       5.730617      5.733112      3.538141  \n",
       "std        1.127572      1.141865      0.708909  \n",
       "min       -6.370000     -6.610000     -4.060000  \n",
       "25%        4.710000      4.720000      2.910000  \n",
       "50%        5.700000      5.710000      3.530000  \n",
       "75%        6.540000      6.540000      4.040000  \n",
       "max       10.740000     58.900000     31.800000  "
      ]
     },
     "execution_count": 4,
     "metadata": {},
     "output_type": "execute_result"
    }
   ],
   "source": [
    "df.describe()"
   ]
  },
  {
   "cell_type": "code",
   "execution_count": 5,
   "id": "1503cc69",
   "metadata": {},
   "outputs": [
    {
     "data": {
      "text/plain": [
       "0"
      ]
     },
     "execution_count": 5,
     "metadata": {},
     "output_type": "execute_result"
    }
   ],
   "source": [
    "df.duplicated().sum()"
   ]
  },
  {
   "cell_type": "markdown",
   "id": "c67022c6",
   "metadata": {},
   "source": [
    "... So far, so good 💯"
   ]
  },
  {
   "cell_type": "markdown",
   "id": "0da97465",
   "metadata": {},
   "source": [
    "We'll identify any missing values in the dataset."
   ]
  },
  {
   "cell_type": "code",
   "execution_count": 6,
   "id": "6bbf68ed",
   "metadata": {},
   "outputs": [
    {
     "data": {
      "text/plain": [
       "depth      2962\n",
       "x          1090\n",
       "y           585\n",
       "ID            0\n",
       "carat         0\n",
       "cut           0\n",
       "color         0\n",
       "clarity       0\n",
       "table         0\n",
       "price         0\n",
       "z             0\n",
       "dtype: int64"
      ]
     },
     "execution_count": 6,
     "metadata": {},
     "output_type": "execute_result"
    }
   ],
   "source": [
    "df.isnull().sum().sort_values(ascending=False)"
   ]
  },
  {
   "cell_type": "code",
   "execution_count": 7,
   "id": "3f3377b1",
   "metadata": {
    "scrolled": true
   },
   "outputs": [
    {
     "data": {
      "text/plain": [
       "ID         0.000000\n",
       "carat      0.000000\n",
       "cut        0.000000\n",
       "color      0.000000\n",
       "clarity    0.000000\n",
       "depth      5.492305\n",
       "table      0.000000\n",
       "price      0.000000\n",
       "x          2.021139\n",
       "y          1.084739\n",
       "z          0.000000\n",
       "dtype: float64"
      ]
     },
     "execution_count": 7,
     "metadata": {},
     "output_type": "execute_result"
    }
   ],
   "source": [
    "df.isnull().sum()*100/len(df)"
   ]
  },
  {
   "cell_type": "markdown",
   "id": "3b7aa9fa",
   "metadata": {},
   "source": [
    "Upon further inspection, we've noticed that some columns have missing data."
   ]
  },
  {
   "cell_type": "markdown",
   "id": "4ee8633a",
   "metadata": {},
   "source": [
    "To conduct a more in-depth analysis, we'll utilize the `.unique()` function to examine unique values in specific columns. This will help us understand the range and diversity of values within each feature."
   ]
  },
  {
   "cell_type": "code",
   "execution_count": 8,
   "id": "1fd88a64",
   "metadata": {},
   "outputs": [
    {
     "data": {
      "text/plain": [
       "array(['Ideal', 'Premium', 'Good', 'Very Good', 'Fair', 'Very Goo!d',\n",
       "       \"P*'remium\", 'I#deal', '#Very Good', 'P?remium', \"*'Ideal\",\n",
       "       '!Good', 'Pre!mium', 'Pr?emium', 'Very Go#od', 'Ide&al', 'Ide!al',\n",
       "       'Id!eal', '&Premium', 'Go?od', 'G#ood', \"Very *'Good\", \"Ide*'al\",\n",
       "       'V&ery Good', '&Ideal', 'Very G#ood'], dtype=object)"
      ]
     },
     "execution_count": 8,
     "metadata": {},
     "output_type": "execute_result"
    }
   ],
   "source": [
    "df['cut'].unique()"
   ]
  },
  {
   "cell_type": "code",
   "execution_count": 9,
   "id": "af4514ec",
   "metadata": {},
   "outputs": [
    {
     "data": {
      "text/plain": [
       "array(['E', 'I', 'J', 'H', 'F', 'G', 'D', \"*'E\", '#F', '&G', '!H', '?J',\n",
       "       '#D', '&I', '!I', '?G', '#H', '?H', '?E', \"*'F\", '!E', '&F', '#G',\n",
       "       \"*'I\", '!F', '&E'], dtype=object)"
      ]
     },
     "execution_count": 9,
     "metadata": {},
     "output_type": "execute_result"
    }
   ],
   "source": [
    "df['color'].unique()"
   ]
  },
  {
   "cell_type": "code",
   "execution_count": 10,
   "id": "7b34dd14",
   "metadata": {},
   "outputs": [
    {
     "data": {
      "text/plain": [
       "array(['SI2', 'SI1', 'VS1', 'VS2', 'VVS2', 'VVS1', 'I1', 'IF', 'S?I1',\n",
       "       'SI!1', '&VS2', '&SI2', \"S*'I1\", 'VS?1', \"S*'I2\", '#VS1', 'V&S2',\n",
       "       'V!S2', '!VS2', 'VS#2', \"VVS*'2\", \"*'SI2\", 'VV?S1', 'S&I1',\n",
       "       \"*'SI1\", 'SI?1', 'VV#S1', 'V#S2', '#SI!1', 'S!I2'], dtype=object)"
      ]
     },
     "execution_count": 10,
     "metadata": {},
     "output_type": "execute_result"
    }
   ],
   "source": [
    "df['clarity'].unique()"
   ]
  },
  {
   "cell_type": "markdown",
   "id": "bc0112a8",
   "metadata": {},
   "source": [
    "Upon inspecting the unique values, we can observe that there are typographical errors present in some of the columns."
   ]
  },
  {
   "cell_type": "markdown",
   "id": "1be3cfe1",
   "metadata": {},
   "source": [
    "## Missing data"
   ]
  },
  {
   "cell_type": "markdown",
   "id": "c97bd295",
   "metadata": {},
   "source": [
    "Next, we'll further analyze the columns with missing values to decide on the best approach for handling them."
   ]
  },
  {
   "cell_type": "code",
   "execution_count": 11,
   "id": "0611694a",
   "metadata": {},
   "outputs": [
    {
     "data": {
      "text/plain": [
       "count    50968.000000\n",
       "mean        61.749425\n",
       "std          1.432949\n",
       "min         43.000000\n",
       "25%         61.000000\n",
       "50%         61.800000\n",
       "75%         62.500000\n",
       "max         79.000000\n",
       "Name: depth, dtype: float64"
      ]
     },
     "execution_count": 11,
     "metadata": {},
     "output_type": "execute_result"
    }
   ],
   "source": [
    "df['depth'].describe()"
   ]
  },
  {
   "cell_type": "code",
   "execution_count": 12,
   "id": "43be429a",
   "metadata": {},
   "outputs": [
    {
     "data": {
      "image/png": "[encoded data removed]",
      "text/plain": [
       "<Figure size 1000x600 with 1 Axes>"
      ]
     },
     "metadata": {},
     "output_type": "display_data"
    }
   ],
   "source": [
    "plt.figure(figsize=(10, 6))\n",
    "sns.histplot(df['depth'].dropna(), bins=30, kde=True)\n",
    "plt.title('Depth Distribution')\n",
    "plt.show()\n"
   ]
  },
  {
   "cell_type": "markdown",
   "id": "636d0907",
   "metadata": {},
   "source": [
    "I decided to use the median to fill in the missing values in 'depth' because it's a robust central measure unaffected by outliers."
   ]
  },
  {
   "cell_type": "code",
   "execution_count": 13,
   "id": "9330eee3",
   "metadata": {},
   "outputs": [],
   "source": [
    "df['depth'].fillna(df['depth'].median(), inplace=True)"
   ]
  },
  {
   "cell_type": "code",
   "execution_count": 14,
   "id": "d96932a9",
   "metadata": {},
   "outputs": [
    {
     "data": {
      "text/plain": [
       "count    53930.000000\n",
       "mean        61.752203\n",
       "std          1.393089\n",
       "min         43.000000\n",
       "25%         61.100000\n",
       "50%         61.800000\n",
       "75%         62.500000\n",
       "max         79.000000\n",
       "Name: depth, dtype: float64"
      ]
     },
     "execution_count": 14,
     "metadata": {},
     "output_type": "execute_result"
    }
   ],
   "source": [
    "df['depth'].describe()"
   ]
  },
  {
   "cell_type": "markdown",
   "id": "7ba5ba93",
   "metadata": {},
   "source": [
    "We analyzed the information from column X"
   ]
  },
  {
   "cell_type": "code",
   "execution_count": 15,
   "id": "89b00ac1",
   "metadata": {
    "scrolled": true
   },
   "outputs": [
    {
     "data": {
      "text/plain": [
       "count    52840.000000\n",
       "mean         5.730617\n",
       "std          1.127572\n",
       "min         -6.370000\n",
       "25%          4.710000\n",
       "50%          5.700000\n",
       "75%          6.540000\n",
       "max         10.740000\n",
       "Name: x, dtype: float64"
      ]
     },
     "execution_count": 15,
     "metadata": {},
     "output_type": "execute_result"
    }
   ],
   "source": [
    "df['x'].describe()"
   ]
  },
  {
   "cell_type": "markdown",
   "id": "2a127293",
   "metadata": {},
   "source": [
    "I noticed there are negative numbers in the column. In total, there are 5 negative numbers. I have a few theories about what this might signify, as I suspect they could be the dimensions of diamonds. However, I believe I need to gain a better understanding of the meaning of columns X, Y and Z, where there are also 5 negative numbers. Therefore, I'll leave those negative numbers unchanged for now."
   ]
  },
  {
   "cell_type": "code",
   "execution_count": 16,
   "id": "1b5584c0",
   "metadata": {},
   "outputs": [
    {
     "data": {
      "text/plain": [
       "5"
      ]
     },
     "execution_count": 16,
     "metadata": {},
     "output_type": "execute_result"
    }
   ],
   "source": [
    "x_negatives = (df['x'] < 0).sum()\n",
    "x_negatives"
   ]
  },
  {
   "cell_type": "code",
   "execution_count": 17,
   "id": "6c2b9068",
   "metadata": {},
   "outputs": [
    {
     "data": {
      "text/plain": [
       "5"
      ]
     },
     "execution_count": 17,
     "metadata": {},
     "output_type": "execute_result"
    }
   ],
   "source": [
    "y_negatives = (df['y'] < 0).sum()\n",
    "y_negatives"
   ]
  },
  {
   "cell_type": "code",
   "execution_count": 18,
   "id": "5b5d6607",
   "metadata": {},
   "outputs": [
    {
     "data": {
      "text/plain": [
       "5"
      ]
     },
     "execution_count": 18,
     "metadata": {},
     "output_type": "execute_result"
    }
   ],
   "source": [
    "y_negatives = (df['z'] < 0).sum()\n",
    "y_negatives"
   ]
  },
  {
   "cell_type": "code",
   "execution_count": 19,
   "id": "6b553cb3",
   "metadata": {},
   "outputs": [
    {
     "data": {
      "image/png": "[encoded data removed]",
      "text/plain": [
       "<Figure size 1000x600 with 1 Axes>"
      ]
     },
     "metadata": {},
     "output_type": "display_data"
    }
   ],
   "source": [
    "plt.figure(figsize=(10, 6))\n",
    "sns.histplot(df['x'], bins=30, kde=True)\n",
    "plt.title('Histogram X')\n",
    "plt.xlabel('X')\n",
    "plt.ylabel('Frequency')\n",
    "plt.show()"
   ]
  },
  {
   "cell_type": "code",
   "execution_count": 20,
   "id": "76381938",
   "metadata": {},
   "outputs": [
    {
     "data": {
      "image/png": "[encoded data removed]",
      "text/plain": [
       "<Figure size 1000x600 with 1 Axes>"
      ]
     },
     "metadata": {},
     "output_type": "display_data"
    }
   ],
   "source": [
    "plt.figure(figsize=(10, 6))\n",
    "sns.histplot(df['y'], bins=30, kde=True)\n",
    "plt.title('Histogram Y')\n",
    "plt.xlabel('X')\n",
    "plt.ylabel('Frequency')\n",
    "plt.show()"
   ]
  },
  {
   "cell_type": "code",
   "execution_count": 21,
   "id": "56a2fac1",
   "metadata": {},
   "outputs": [
    {
     "data": {
      "image/png": "[encoded data removed]",
      "text/plain": [
       "<Figure size 1000x600 with 1 Axes>"
      ]
     },
     "metadata": {},
     "output_type": "display_data"
    }
   ],
   "source": [
    "plt.figure(figsize=(10, 6))\n",
    "sns.histplot(df['z'], bins=30, kde=True)\n",
    "plt.title('Histogram Z')\n",
    "plt.xlabel('X')\n",
    "plt.ylabel('Frequency')\n",
    "plt.show()"
   ]
  },
  {
   "cell_type": "markdown",
   "id": "a9fe5936",
   "metadata": {},
   "source": [
    "In this case I decided to use the median to fill in the missing values in X and Y because it's a robust central measure unaffected by outliers."
   ]
  },
  {
   "cell_type": "code",
   "execution_count": 22,
   "id": "bbf6b346",
   "metadata": {},
   "outputs": [],
   "source": [
    "df['x'].fillna(df['x'].median(), inplace=True)"
   ]
  },
  {
   "cell_type": "code",
   "execution_count": 23,
   "id": "1b45d96a",
   "metadata": {},
   "outputs": [],
   "source": [
    "df['y'].fillna(df['y'].median(), inplace=True)"
   ]
  },
  {
   "cell_type": "code",
   "execution_count": 24,
   "id": "2618b879",
   "metadata": {},
   "outputs": [
    {
     "data": {
      "image/png": "[encoded data removed]",
      "text/plain": [
       "<Figure size 1000x600 with 1 Axes>"
      ]
     },
     "metadata": {},
     "output_type": "display_data"
    }
   ],
   "source": [
    "plt.figure(figsize=(10, 6))\n",
    "sns.histplot(df['x'], bins=30, kde=True)\n",
    "plt.title('Histogram X after filling nulls')\n",
    "plt.xlabel('X')\n",
    "plt.ylabel('Frequency')\n",
    "plt.show()"
   ]
  },
  {
   "cell_type": "code",
   "execution_count": 25,
   "id": "2ac789fa",
   "metadata": {},
   "outputs": [
    {
     "data": {
      "image/png": "[encoded data removed]",
      "text/plain": [
       "<Figure size 1000x600 with 1 Axes>"
      ]
     },
     "metadata": {},
     "output_type": "display_data"
    }
   ],
   "source": [
    "plt.figure(figsize=(10, 6))\n",
    "sns.histplot(df['y'], bins=30, kde=True)\n",
    "plt.title('Histogram Y after filling nulls')\n",
    "plt.xlabel('X')\n",
    "plt.ylabel('Frequency')\n",
    "plt.show()"
   ]
  },
  {
   "cell_type": "markdown",
   "id": "59e59f84",
   "metadata": {},
   "source": [
    "Now we don't have null values"
   ]
  },
  {
   "cell_type": "code",
   "execution_count": 26,
   "id": "9fb843bd",
   "metadata": {},
   "outputs": [
    {
     "data": {
      "text/plain": [
       "ID         0\n",
       "carat      0\n",
       "cut        0\n",
       "color      0\n",
       "clarity    0\n",
       "depth      0\n",
       "table      0\n",
       "price      0\n",
       "x          0\n",
       "y          0\n",
       "z          0\n",
       "dtype: int64"
      ]
     },
     "execution_count": 26,
     "metadata": {},
     "output_type": "execute_result"
    }
   ],
   "source": [
    "df.isnull().sum().sort_values(ascending=False)"
   ]
  },
  {
   "cell_type": "markdown",
   "id": "8af23cd3",
   "metadata": {},
   "source": [
    "## Cleaning errors"
   ]
  },
  {
   "cell_type": "code",
   "execution_count": 27,
   "id": "d13201cd",
   "metadata": {},
   "outputs": [],
   "source": [
    "# Cleaning special characters\n",
    "corrections = {\n",
    "    \"Very Goo!d\": \"Very Good\",\n",
    "    \"P*'remium\": \"Premium\",\n",
    "    \"I#deal\": \"Ideal\",\n",
    "    \"#Very Good\": \"Very Good\",\n",
    "    \"P?remium\": \"Premium\",\n",
    "    \"*'Ideal\": \"Ideal\",\n",
    "    \"!Good\": \"Good\",\n",
    "    \"Pre!mium\": \"Premium\",\n",
    "    \"Pr?emium\": \"Premium\",\n",
    "    \"Very Go#od\": \"Very Good\",\n",
    "    \"Ide&al\": \"Ideal\",\n",
    "    \"Ide!al\": \"Ideal\",\n",
    "    \"Id!eal\": \"Ideal\",\n",
    "    \"&Premium\": \"Premium\",\n",
    "    \"Go?od\": \"Good\",\n",
    "    \"G#ood\": \"Good\",\n",
    "    \"Very *'Good\": \"Very Good\",\n",
    "    \"Ide*'al\": \"Ideal\",\n",
    "    \"V&ery Good\": \"Very Good\",\n",
    "    \"&Ideal\": \"Ideal\",\n",
    "    \"Very G#ood\": \"Very Good\"\n",
    "}\n",
    "\n",
    "# Applying in the column\n",
    "df['cut'] = df['cut'].replace(corrections)"
   ]
  },
  {
   "cell_type": "code",
   "execution_count": 28,
   "id": "2d7b5b8c",
   "metadata": {},
   "outputs": [
    {
     "data": {
      "text/plain": [
       "array(['Ideal', 'Premium', 'Good', 'Very Good', 'Fair'], dtype=object)"
      ]
     },
     "execution_count": 28,
     "metadata": {},
     "output_type": "execute_result"
    }
   ],
   "source": [
    "df['cut'].unique()"
   ]
  },
  {
   "cell_type": "code",
   "execution_count": 29,
   "id": "c4a7aea7",
   "metadata": {},
   "outputs": [],
   "source": [
    "corrections = {\n",
    "    \"*'E\": \"E\",\n",
    "    \"#F\": \"F\",\n",
    "    \"&G\": \"G\",\n",
    "    \"!H\": \"H\",\n",
    "    \"?J\": \"J\",\n",
    "    \"#D\": \"D\",\n",
    "    \"&I\": \"I\",\n",
    "    \"!I\": \"I\",\n",
    "    \"?G\": \"G\",\n",
    "    \"#H\": \"H\",\n",
    "    \"?H\": \"H\",\n",
    "    \"?E\": \"E\",\n",
    "    \"*'F\": \"F\",\n",
    "    \"!E\": \"E\",\n",
    "    \"&F\": \"F\",\n",
    "    \"#G\": \"G\",\n",
    "    \"*'I\": \"I\",\n",
    "    \"!F\": \"F\",\n",
    "    \"&E\": \"E\"\n",
    "}\n",
    "\n",
    "df['color'] = df['color'].replace(corrections)"
   ]
  },
  {
   "cell_type": "code",
   "execution_count": 30,
   "id": "3b0e3f7a",
   "metadata": {},
   "outputs": [
    {
     "data": {
      "text/plain": [
       "array(['E', 'I', 'J', 'H', 'F', 'G', 'D'], dtype=object)"
      ]
     },
     "execution_count": 30,
     "metadata": {},
     "output_type": "execute_result"
    }
   ],
   "source": [
    "df['color'].unique()"
   ]
  },
  {
   "cell_type": "code",
   "execution_count": 31,
   "id": "82359827",
   "metadata": {},
   "outputs": [],
   "source": [
    "corrections = {\n",
    "    \"S?I1\": \"SI1\",\n",
    "    \"SI!1\": \"SI1\",\n",
    "    \"&VS2\": \"VS2\",\n",
    "    \"&SI2\": \"SI2\",\n",
    "    \"S*'I1\": \"SI1\",\n",
    "    \"VS?1\": \"VS1\",\n",
    "    \"S*'I2\": \"SI2\",\n",
    "    \"#VS1\": \"VS1\",\n",
    "    \"V&S2\": \"VS2\",\n",
    "    \"V!S2\": \"VS2\",\n",
    "    \"!VS2\": \"VS2\",\n",
    "    \"VS#2\": \"VS2\",\n",
    "    \"VVS*'2\": \"VVS2\",\n",
    "    \"*'SI2\": \"SI2\",\n",
    "    \"VV?S1\": \"VVS1\",\n",
    "    \"S&I1\": \"SI1\",\n",
    "    \"*'SI1\": \"SI1\",\n",
    "    \"SI?1\": \"SI1\",\n",
    "    \"VV#S1\": \"VVS1\",\n",
    "    \"V#S2\": \"VS2\",\n",
    "    \"#SI!1\": \"SI1\",\n",
    "    \"S!I2\": \"SI2\"\n",
    "}\n",
    "\n",
    "df['clarity'] = df['clarity'].replace(corrections)"
   ]
  },
  {
   "cell_type": "code",
   "execution_count": 32,
   "id": "898bfbd7",
   "metadata": {
    "scrolled": true
   },
   "outputs": [
    {
     "data": {
      "text/plain": [
       "array(['SI2', 'SI1', 'VS1', 'VS2', 'VVS2', 'VVS1', 'I1', 'IF'],\n",
       "      dtype=object)"
      ]
     },
     "execution_count": 32,
     "metadata": {},
     "output_type": "execute_result"
    }
   ],
   "source": [
    "df['clarity'].unique()"
   ]
  },
  {
   "cell_type": "markdown",
   "id": "8270fe16",
   "metadata": {},
   "source": [
    "Also, we'll remove the first column containing the diamond IDs as it doesn't contribute to the prediction."
   ]
  },
  {
   "cell_type": "code",
   "execution_count": 33,
   "id": "fef81c03",
   "metadata": {},
   "outputs": [],
   "source": [
    "df.drop('ID', axis=1, inplace=True)"
   ]
  },
  {
   "cell_type": "markdown",
   "id": "116986ae",
   "metadata": {},
   "source": [
    "Now, data is clean for the next step!! 💯"
   ]
  },
  {
   "cell_type": "markdown",
   "id": "c94d8208",
   "metadata": {},
   "source": [
    "## Preprocessing workflow"
   ]
  },
  {
   "cell_type": "markdown",
   "id": "beb5cef1",
   "metadata": {},
   "source": [
    "I'm going to use an ordinal encoder for the categorical columns since the data indicates a hierarchy in the field of diamonds."
   ]
  },
  {
   "cell_type": "code",
   "execution_count": 34,
   "id": "1f273e26",
   "metadata": {},
   "outputs": [],
   "source": [
    "from sklearn.preprocessing import OrdinalEncoder"
   ]
  },
  {
   "cell_type": "code",
   "execution_count": 35,
   "id": "b18f16b6",
   "metadata": {},
   "outputs": [],
   "source": [
    "#Defining cut categories\n",
    "cut_category = ['Ideal', 'Premium', 'Very Good', 'Good', 'Fair']\n",
    "\n",
    "#Encoding\n",
    "encoder = OrdinalEncoder(categories=[cut_category])\n",
    "\n",
    "#Transforming column\n",
    "df['cut_encoded'] = encoder.fit_transform(df[['cut']])\n",
    "\n",
    "# Drop original 'cut'\n",
    "df.drop(columns=['cut'], inplace=True)"
   ]
  },
  {
   "cell_type": "code",
   "execution_count": 36,
   "id": "d91feefe",
   "metadata": {},
   "outputs": [
    {
     "data": {
      "text/html": [
       "<div>\n",
       "<style scoped>\n",
       "    .dataframe tbody tr th:only-of-type {\n",
       "        vertical-align: middle;\n",
       "    }\n",
       "\n",
       "    .dataframe tbody tr th {\n",
       "        vertical-align: top;\n",
       "    }\n",
       "\n",
       "    .dataframe thead th {\n",
       "        text-align: right;\n",
       "    }\n",
       "</style>\n",
       "<table border=\"1\" class=\"dataframe\">\n",
       "  <thead>\n",
       "    <tr style=\"text-align: right;\">\n",
       "      <th></th>\n",
       "      <th>carat</th>\n",
       "      <th>color</th>\n",
       "      <th>clarity</th>\n",
       "      <th>depth</th>\n",
       "      <th>table</th>\n",
       "      <th>price</th>\n",
       "      <th>x</th>\n",
       "      <th>y</th>\n",
       "      <th>z</th>\n",
       "      <th>cut_encoded</th>\n",
       "    </tr>\n",
       "  </thead>\n",
       "  <tbody>\n",
       "    <tr>\n",
       "      <th>0</th>\n",
       "      <td>0.23</td>\n",
       "      <td>E</td>\n",
       "      <td>SI2</td>\n",
       "      <td>61.5</td>\n",
       "      <td>55.0</td>\n",
       "      <td>326</td>\n",
       "      <td>3.95</td>\n",
       "      <td>3.98</td>\n",
       "      <td>2.43</td>\n",
       "      <td>0.0</td>\n",
       "    </tr>\n",
       "    <tr>\n",
       "      <th>1</th>\n",
       "      <td>0.21</td>\n",
       "      <td>E</td>\n",
       "      <td>SI1</td>\n",
       "      <td>59.8</td>\n",
       "      <td>61.0</td>\n",
       "      <td>326</td>\n",
       "      <td>3.89</td>\n",
       "      <td>3.84</td>\n",
       "      <td>2.31</td>\n",
       "      <td>1.0</td>\n",
       "    </tr>\n",
       "    <tr>\n",
       "      <th>2</th>\n",
       "      <td>0.23</td>\n",
       "      <td>E</td>\n",
       "      <td>VS1</td>\n",
       "      <td>56.9</td>\n",
       "      <td>65.0</td>\n",
       "      <td>327</td>\n",
       "      <td>4.05</td>\n",
       "      <td>4.07</td>\n",
       "      <td>2.31</td>\n",
       "      <td>3.0</td>\n",
       "    </tr>\n",
       "    <tr>\n",
       "      <th>3</th>\n",
       "      <td>0.29</td>\n",
       "      <td>I</td>\n",
       "      <td>VS2</td>\n",
       "      <td>62.4</td>\n",
       "      <td>58.0</td>\n",
       "      <td>334</td>\n",
       "      <td>4.20</td>\n",
       "      <td>4.23</td>\n",
       "      <td>2.63</td>\n",
       "      <td>1.0</td>\n",
       "    </tr>\n",
       "    <tr>\n",
       "      <th>4</th>\n",
       "      <td>0.31</td>\n",
       "      <td>J</td>\n",
       "      <td>SI2</td>\n",
       "      <td>63.3</td>\n",
       "      <td>58.0</td>\n",
       "      <td>335</td>\n",
       "      <td>4.34</td>\n",
       "      <td>4.35</td>\n",
       "      <td>2.75</td>\n",
       "      <td>3.0</td>\n",
       "    </tr>\n",
       "  </tbody>\n",
       "</table>\n",
       "</div>"
      ],
      "text/plain": [
       "   carat color clarity  depth  table  price     x     y     z  cut_encoded\n",
       "0   0.23     E     SI2   61.5   55.0    326  3.95  3.98  2.43          0.0\n",
       "1   0.21     E     SI1   59.8   61.0    326  3.89  3.84  2.31          1.0\n",
       "2   0.23     E     VS1   56.9   65.0    327  4.05  4.07  2.31          3.0\n",
       "3   0.29     I     VS2   62.4   58.0    334  4.20  4.23  2.63          1.0\n",
       "4   0.31     J     SI2   63.3   58.0    335  4.34  4.35  2.75          3.0"
      ]
     },
     "execution_count": 36,
     "metadata": {},
     "output_type": "execute_result"
    }
   ],
   "source": [
    "df.head()"
   ]
  },
  {
   "cell_type": "code",
   "execution_count": 37,
   "id": "1e865989",
   "metadata": {},
   "outputs": [],
   "source": [
    "#Doing the same with category color\n",
    "color_category = ['D', 'E', 'F', 'G', 'H', 'I', 'J']\n",
    "\n",
    "encoder = OrdinalEncoder(categories=[color_category])\n",
    "\n",
    "df['color_encoded'] = encoder.fit_transform(df[['color']])\n",
    "\n",
    "df.drop(columns=['color'], inplace=True)"
   ]
  },
  {
   "cell_type": "code",
   "execution_count": 38,
   "id": "9ee458f1",
   "metadata": {},
   "outputs": [
    {
     "data": {
      "text/html": [
       "<div>\n",
       "<style scoped>\n",
       "    .dataframe tbody tr th:only-of-type {\n",
       "        vertical-align: middle;\n",
       "    }\n",
       "\n",
       "    .dataframe tbody tr th {\n",
       "        vertical-align: top;\n",
       "    }\n",
       "\n",
       "    .dataframe thead th {\n",
       "        text-align: right;\n",
       "    }\n",
       "</style>\n",
       "<table border=\"1\" class=\"dataframe\">\n",
       "  <thead>\n",
       "    <tr style=\"text-align: right;\">\n",
       "      <th></th>\n",
       "      <th>carat</th>\n",
       "      <th>clarity</th>\n",
       "      <th>depth</th>\n",
       "      <th>table</th>\n",
       "      <th>price</th>\n",
       "      <th>x</th>\n",
       "      <th>y</th>\n",
       "      <th>z</th>\n",
       "      <th>cut_encoded</th>\n",
       "      <th>color_encoded</th>\n",
       "    </tr>\n",
       "  </thead>\n",
       "  <tbody>\n",
       "    <tr>\n",
       "      <th>0</th>\n",
       "      <td>0.23</td>\n",
       "      <td>SI2</td>\n",
       "      <td>61.5</td>\n",
       "      <td>55.0</td>\n",
       "      <td>326</td>\n",
       "      <td>3.95</td>\n",
       "      <td>3.98</td>\n",
       "      <td>2.43</td>\n",
       "      <td>0.0</td>\n",
       "      <td>1.0</td>\n",
       "    </tr>\n",
       "    <tr>\n",
       "      <th>1</th>\n",
       "      <td>0.21</td>\n",
       "      <td>SI1</td>\n",
       "      <td>59.8</td>\n",
       "      <td>61.0</td>\n",
       "      <td>326</td>\n",
       "      <td>3.89</td>\n",
       "      <td>3.84</td>\n",
       "      <td>2.31</td>\n",
       "      <td>1.0</td>\n",
       "      <td>1.0</td>\n",
       "    </tr>\n",
       "    <tr>\n",
       "      <th>2</th>\n",
       "      <td>0.23</td>\n",
       "      <td>VS1</td>\n",
       "      <td>56.9</td>\n",
       "      <td>65.0</td>\n",
       "      <td>327</td>\n",
       "      <td>4.05</td>\n",
       "      <td>4.07</td>\n",
       "      <td>2.31</td>\n",
       "      <td>3.0</td>\n",
       "      <td>1.0</td>\n",
       "    </tr>\n",
       "    <tr>\n",
       "      <th>3</th>\n",
       "      <td>0.29</td>\n",
       "      <td>VS2</td>\n",
       "      <td>62.4</td>\n",
       "      <td>58.0</td>\n",
       "      <td>334</td>\n",
       "      <td>4.20</td>\n",
       "      <td>4.23</td>\n",
       "      <td>2.63</td>\n",
       "      <td>1.0</td>\n",
       "      <td>5.0</td>\n",
       "    </tr>\n",
       "    <tr>\n",
       "      <th>4</th>\n",
       "      <td>0.31</td>\n",
       "      <td>SI2</td>\n",
       "      <td>63.3</td>\n",
       "      <td>58.0</td>\n",
       "      <td>335</td>\n",
       "      <td>4.34</td>\n",
       "      <td>4.35</td>\n",
       "      <td>2.75</td>\n",
       "      <td>3.0</td>\n",
       "      <td>6.0</td>\n",
       "    </tr>\n",
       "  </tbody>\n",
       "</table>\n",
       "</div>"
      ],
      "text/plain": [
       "   carat clarity  depth  table  price     x     y     z  cut_encoded  \\\n",
       "0   0.23     SI2   61.5   55.0    326  3.95  3.98  2.43          0.0   \n",
       "1   0.21     SI1   59.8   61.0    326  3.89  3.84  2.31          1.0   \n",
       "2   0.23     VS1   56.9   65.0    327  4.05  4.07  2.31          3.0   \n",
       "3   0.29     VS2   62.4   58.0    334  4.20  4.23  2.63          1.0   \n",
       "4   0.31     SI2   63.3   58.0    335  4.34  4.35  2.75          3.0   \n",
       "\n",
       "   color_encoded  \n",
       "0            1.0  \n",
       "1            1.0  \n",
       "2            1.0  \n",
       "3            5.0  \n",
       "4            6.0  "
      ]
     },
     "execution_count": 38,
     "metadata": {},
     "output_type": "execute_result"
    }
   ],
   "source": [
    "df.head()"
   ]
  },
  {
   "cell_type": "code",
   "execution_count": 39,
   "id": "537683f8",
   "metadata": {},
   "outputs": [],
   "source": [
    "#Now with clarity\n",
    "clarity_categories = ['IF', 'VVS1', 'VVS2', 'VS1', 'VS2', 'SI1', 'SI2', 'I1']\n",
    "\n",
    "encoder = OrdinalEncoder(categories=[clarity_categories])\n",
    "\n",
    "df['clarity_encoded'] = encoder.fit_transform(df[['clarity']])\n",
    "\n",
    "df.drop(columns=['clarity'], inplace=True)"
   ]
  },
  {
   "cell_type": "code",
   "execution_count": 40,
   "id": "045b4409",
   "metadata": {},
   "outputs": [
    {
     "data": {
      "text/html": [
       "<div>\n",
       "<style scoped>\n",
       "    .dataframe tbody tr th:only-of-type {\n",
       "        vertical-align: middle;\n",
       "    }\n",
       "\n",
       "    .dataframe tbody tr th {\n",
       "        vertical-align: top;\n",
       "    }\n",
       "\n",
       "    .dataframe thead th {\n",
       "        text-align: right;\n",
       "    }\n",
       "</style>\n",
       "<table border=\"1\" class=\"dataframe\">\n",
       "  <thead>\n",
       "    <tr style=\"text-align: right;\">\n",
       "      <th></th>\n",
       "      <th>carat</th>\n",
       "      <th>depth</th>\n",
       "      <th>table</th>\n",
       "      <th>price</th>\n",
       "      <th>x</th>\n",
       "      <th>y</th>\n",
       "      <th>z</th>\n",
       "      <th>cut_encoded</th>\n",
       "      <th>color_encoded</th>\n",
       "      <th>clarity_encoded</th>\n",
       "    </tr>\n",
       "  </thead>\n",
       "  <tbody>\n",
       "    <tr>\n",
       "      <th>0</th>\n",
       "      <td>0.23</td>\n",
       "      <td>61.5</td>\n",
       "      <td>55.0</td>\n",
       "      <td>326</td>\n",
       "      <td>3.95</td>\n",
       "      <td>3.98</td>\n",
       "      <td>2.43</td>\n",
       "      <td>0.0</td>\n",
       "      <td>1.0</td>\n",
       "      <td>6.0</td>\n",
       "    </tr>\n",
       "    <tr>\n",
       "      <th>1</th>\n",
       "      <td>0.21</td>\n",
       "      <td>59.8</td>\n",
       "      <td>61.0</td>\n",
       "      <td>326</td>\n",
       "      <td>3.89</td>\n",
       "      <td>3.84</td>\n",
       "      <td>2.31</td>\n",
       "      <td>1.0</td>\n",
       "      <td>1.0</td>\n",
       "      <td>5.0</td>\n",
       "    </tr>\n",
       "    <tr>\n",
       "      <th>2</th>\n",
       "      <td>0.23</td>\n",
       "      <td>56.9</td>\n",
       "      <td>65.0</td>\n",
       "      <td>327</td>\n",
       "      <td>4.05</td>\n",
       "      <td>4.07</td>\n",
       "      <td>2.31</td>\n",
       "      <td>3.0</td>\n",
       "      <td>1.0</td>\n",
       "      <td>3.0</td>\n",
       "    </tr>\n",
       "    <tr>\n",
       "      <th>3</th>\n",
       "      <td>0.29</td>\n",
       "      <td>62.4</td>\n",
       "      <td>58.0</td>\n",
       "      <td>334</td>\n",
       "      <td>4.20</td>\n",
       "      <td>4.23</td>\n",
       "      <td>2.63</td>\n",
       "      <td>1.0</td>\n",
       "      <td>5.0</td>\n",
       "      <td>4.0</td>\n",
       "    </tr>\n",
       "    <tr>\n",
       "      <th>4</th>\n",
       "      <td>0.31</td>\n",
       "      <td>63.3</td>\n",
       "      <td>58.0</td>\n",
       "      <td>335</td>\n",
       "      <td>4.34</td>\n",
       "      <td>4.35</td>\n",
       "      <td>2.75</td>\n",
       "      <td>3.0</td>\n",
       "      <td>6.0</td>\n",
       "      <td>6.0</td>\n",
       "    </tr>\n",
       "  </tbody>\n",
       "</table>\n",
       "</div>"
      ],
      "text/plain": [
       "   carat  depth  table  price     x     y     z  cut_encoded  color_encoded  \\\n",
       "0   0.23   61.5   55.0    326  3.95  3.98  2.43          0.0            1.0   \n",
       "1   0.21   59.8   61.0    326  3.89  3.84  2.31          1.0            1.0   \n",
       "2   0.23   56.9   65.0    327  4.05  4.07  2.31          3.0            1.0   \n",
       "3   0.29   62.4   58.0    334  4.20  4.23  2.63          1.0            5.0   \n",
       "4   0.31   63.3   58.0    335  4.34  4.35  2.75          3.0            6.0   \n",
       "\n",
       "   clarity_encoded  \n",
       "0              6.0  \n",
       "1              5.0  \n",
       "2              3.0  \n",
       "3              4.0  \n",
       "4              6.0  "
      ]
     },
     "execution_count": 40,
     "metadata": {},
     "output_type": "execute_result"
    }
   ],
   "source": [
    "df.head()"
   ]
  },
  {
   "cell_type": "markdown",
   "id": "f2c7bde0",
   "metadata": {},
   "source": [
    "Now we need to decide how to preprocessing the numerical data"
   ]
  },
  {
   "cell_type": "code",
   "execution_count": 41,
   "id": "700fc3bb",
   "metadata": {},
   "outputs": [
    {
     "data": {
      "image/png": "[encoded data removed]",
      "text/plain": [
       "<Figure size 1000x600 with 1 Axes>"
      ]
     },
     "metadata": {},
     "output_type": "display_data"
    }
   ],
   "source": [
    "plt.figure(figsize=(10, 6))\n",
    "sns.histplot(df['carat'], bins=30, kde=True)\n",
    "plt.title('Histogram carat')\n",
    "plt.xlabel('X')\n",
    "plt.ylabel('Frequency')\n",
    "plt.show()"
   ]
  },
  {
   "cell_type": "code",
   "execution_count": 42,
   "id": "b7482669",
   "metadata": {},
   "outputs": [
    {
     "data": {
      "image/png": "[encoded data removed]",
      "text/plain": [
       "<Figure size 1000x600 with 1 Axes>"
      ]
     },
     "metadata": {},
     "output_type": "display_data"
    }
   ],
   "source": [
    "plt.figure(figsize=(10, 6))\n",
    "sns.histplot(df['table'], bins=30, kde=True)\n",
    "plt.title('Histogram table')\n",
    "plt.xlabel('X')\n",
    "plt.ylabel('Frequency')\n",
    "plt.show()"
   ]
  },
  {
   "cell_type": "code",
   "execution_count": 43,
   "id": "9b9e42a3",
   "metadata": {},
   "outputs": [
    {
     "data": {
      "image/png": "[encoded data removed]",
      "text/plain": [
       "<Figure size 1000x600 with 1 Axes>"
      ]
     },
     "metadata": {},
     "output_type": "display_data"
    }
   ],
   "source": [
    "plt.figure(figsize=(10, 6))\n",
    "sns.histplot(df['depth'], bins=30, kde=True)\n",
    "plt.title('Histogram depth')\n",
    "plt.xlabel('X')\n",
    "plt.ylabel('Frequency')\n",
    "plt.show()"
   ]
  },
  {
   "cell_type": "markdown",
   "id": "5524eb45",
   "metadata": {},
   "source": [
    "I've decided to use RobustScaler due to the distribution of the data and the presence of outliers."
   ]
  },
  {
   "cell_type": "code",
   "execution_count": 44,
   "id": "8b36e49c",
   "metadata": {},
   "outputs": [],
   "source": [
    "from sklearn.preprocessing import RobustScaler"
   ]
  },
  {
   "cell_type": "code",
   "execution_count": 45,
   "id": "d6a5fc75",
   "metadata": {},
   "outputs": [],
   "source": [
    "scaler = RobustScaler()\n",
    "\n",
    "#Selecting columns\n",
    "ordinal_features = ['carat', 'depth', 'table', 'x', 'y', 'z']\n",
    "\n",
    "df[ordinal_features] = scaler.fit_transform(df[ordinal_features])"
   ]
  },
  {
   "cell_type": "code",
   "execution_count": 46,
   "id": "623ab651",
   "metadata": {},
   "outputs": [
    {
     "data": {
      "text/html": [
       "<div>\n",
       "<style scoped>\n",
       "    .dataframe tbody tr th:only-of-type {\n",
       "        vertical-align: middle;\n",
       "    }\n",
       "\n",
       "    .dataframe tbody tr th {\n",
       "        vertical-align: top;\n",
       "    }\n",
       "\n",
       "    .dataframe thead th {\n",
       "        text-align: right;\n",
       "    }\n",
       "</style>\n",
       "<table border=\"1\" class=\"dataframe\">\n",
       "  <thead>\n",
       "    <tr style=\"text-align: right;\">\n",
       "      <th></th>\n",
       "      <th>carat</th>\n",
       "      <th>depth</th>\n",
       "      <th>table</th>\n",
       "      <th>price</th>\n",
       "      <th>x</th>\n",
       "      <th>y</th>\n",
       "      <th>z</th>\n",
       "      <th>cut_encoded</th>\n",
       "      <th>color_encoded</th>\n",
       "      <th>clarity_encoded</th>\n",
       "    </tr>\n",
       "  </thead>\n",
       "  <tbody>\n",
       "    <tr>\n",
       "      <th>0</th>\n",
       "      <td>-0.734375</td>\n",
       "      <td>-0.214286</td>\n",
       "      <td>-0.666667</td>\n",
       "      <td>326</td>\n",
       "      <td>-0.972222</td>\n",
       "      <td>-0.961111</td>\n",
       "      <td>-0.973451</td>\n",
       "      <td>0.0</td>\n",
       "      <td>1.0</td>\n",
       "      <td>6.0</td>\n",
       "    </tr>\n",
       "    <tr>\n",
       "      <th>1</th>\n",
       "      <td>-0.765625</td>\n",
       "      <td>-1.428571</td>\n",
       "      <td>1.333333</td>\n",
       "      <td>326</td>\n",
       "      <td>-1.005556</td>\n",
       "      <td>-1.038889</td>\n",
       "      <td>-1.079646</td>\n",
       "      <td>1.0</td>\n",
       "      <td>1.0</td>\n",
       "      <td>5.0</td>\n",
       "    </tr>\n",
       "    <tr>\n",
       "      <th>2</th>\n",
       "      <td>-0.734375</td>\n",
       "      <td>-3.500000</td>\n",
       "      <td>2.666667</td>\n",
       "      <td>327</td>\n",
       "      <td>-0.916667</td>\n",
       "      <td>-0.911111</td>\n",
       "      <td>-1.079646</td>\n",
       "      <td>3.0</td>\n",
       "      <td>1.0</td>\n",
       "      <td>3.0</td>\n",
       "    </tr>\n",
       "    <tr>\n",
       "      <th>3</th>\n",
       "      <td>-0.640625</td>\n",
       "      <td>0.428571</td>\n",
       "      <td>0.333333</td>\n",
       "      <td>334</td>\n",
       "      <td>-0.833333</td>\n",
       "      <td>-0.822222</td>\n",
       "      <td>-0.796460</td>\n",
       "      <td>1.0</td>\n",
       "      <td>5.0</td>\n",
       "      <td>4.0</td>\n",
       "    </tr>\n",
       "    <tr>\n",
       "      <th>4</th>\n",
       "      <td>-0.609375</td>\n",
       "      <td>1.071429</td>\n",
       "      <td>0.333333</td>\n",
       "      <td>335</td>\n",
       "      <td>-0.755556</td>\n",
       "      <td>-0.755556</td>\n",
       "      <td>-0.690265</td>\n",
       "      <td>3.0</td>\n",
       "      <td>6.0</td>\n",
       "      <td>6.0</td>\n",
       "    </tr>\n",
       "  </tbody>\n",
       "</table>\n",
       "</div>"
      ],
      "text/plain": [
       "      carat     depth     table  price         x         y         z  \\\n",
       "0 -0.734375 -0.214286 -0.666667    326 -0.972222 -0.961111 -0.973451   \n",
       "1 -0.765625 -1.428571  1.333333    326 -1.005556 -1.038889 -1.079646   \n",
       "2 -0.734375 -3.500000  2.666667    327 -0.916667 -0.911111 -1.079646   \n",
       "3 -0.640625  0.428571  0.333333    334 -0.833333 -0.822222 -0.796460   \n",
       "4 -0.609375  1.071429  0.333333    335 -0.755556 -0.755556 -0.690265   \n",
       "\n",
       "   cut_encoded  color_encoded  clarity_encoded  \n",
       "0          0.0            1.0              6.0  \n",
       "1          1.0            1.0              5.0  \n",
       "2          3.0            1.0              3.0  \n",
       "3          1.0            5.0              4.0  \n",
       "4          3.0            6.0              6.0  "
      ]
     },
     "execution_count": 46,
     "metadata": {},
     "output_type": "execute_result"
    }
   ],
   "source": [
    "df.head()"
   ]
  },
  {
   "cell_type": "code",
   "execution_count": 47,
   "id": "41fabb76",
   "metadata": {},
   "outputs": [
    {
     "data": {
      "text/html": [
       "<div>\n",
       "<style scoped>\n",
       "    .dataframe tbody tr th:only-of-type {\n",
       "        vertical-align: middle;\n",
       "    }\n",
       "\n",
       "    .dataframe tbody tr th {\n",
       "        vertical-align: top;\n",
       "    }\n",
       "\n",
       "    .dataframe thead th {\n",
       "        text-align: right;\n",
       "    }\n",
       "</style>\n",
       "<table border=\"1\" class=\"dataframe\">\n",
       "  <thead>\n",
       "    <tr style=\"text-align: right;\">\n",
       "      <th></th>\n",
       "      <th>carat</th>\n",
       "      <th>depth</th>\n",
       "      <th>table</th>\n",
       "      <th>price</th>\n",
       "      <th>x</th>\n",
       "      <th>y</th>\n",
       "      <th>z</th>\n",
       "      <th>cut_encoded</th>\n",
       "      <th>color_encoded</th>\n",
       "      <th>clarity_encoded</th>\n",
       "    </tr>\n",
       "  </thead>\n",
       "  <tbody>\n",
       "    <tr>\n",
       "      <th>count</th>\n",
       "      <td>53930.000000</td>\n",
       "      <td>53930.000000</td>\n",
       "      <td>53930.000000</td>\n",
       "      <td>53930.000000</td>\n",
       "      <td>53930.000000</td>\n",
       "      <td>53930.000000</td>\n",
       "      <td>53930.000000</td>\n",
       "      <td>53930.000000</td>\n",
       "      <td>53930.000000</td>\n",
       "      <td>53930.000000</td>\n",
       "    </tr>\n",
       "    <tr>\n",
       "      <th>mean</th>\n",
       "      <td>0.153087</td>\n",
       "      <td>-0.034141</td>\n",
       "      <td>0.152443</td>\n",
       "      <td>3933.054942</td>\n",
       "      <td>0.016666</td>\n",
       "      <td>0.012701</td>\n",
       "      <td>0.007204</td>\n",
       "      <td>1.095939</td>\n",
       "      <td>2.594103</td>\n",
       "      <td>3.949119</td>\n",
       "    </tr>\n",
       "    <tr>\n",
       "      <th>std</th>\n",
       "      <td>0.740679</td>\n",
       "      <td>0.995064</td>\n",
       "      <td>0.744859</td>\n",
       "      <td>3989.628569</td>\n",
       "      <td>0.620071</td>\n",
       "      <td>0.630921</td>\n",
       "      <td>0.627353</td>\n",
       "      <td>1.116593</td>\n",
       "      <td>1.701080</td>\n",
       "      <td>1.647181</td>\n",
       "    </tr>\n",
       "    <tr>\n",
       "      <th>min</th>\n",
       "      <td>-0.781250</td>\n",
       "      <td>-13.428571</td>\n",
       "      <td>-4.666667</td>\n",
       "      <td>326.000000</td>\n",
       "      <td>-6.705556</td>\n",
       "      <td>-6.844444</td>\n",
       "      <td>-6.716814</td>\n",
       "      <td>0.000000</td>\n",
       "      <td>0.000000</td>\n",
       "      <td>0.000000</td>\n",
       "    </tr>\n",
       "    <tr>\n",
       "      <th>25%</th>\n",
       "      <td>-0.468750</td>\n",
       "      <td>-0.500000</td>\n",
       "      <td>-0.333333</td>\n",
       "      <td>950.000000</td>\n",
       "      <td>-0.538889</td>\n",
       "      <td>-0.544444</td>\n",
       "      <td>-0.548673</td>\n",
       "      <td>0.000000</td>\n",
       "      <td>1.000000</td>\n",
       "      <td>3.000000</td>\n",
       "    </tr>\n",
       "    <tr>\n",
       "      <th>50%</th>\n",
       "      <td>0.000000</td>\n",
       "      <td>0.000000</td>\n",
       "      <td>0.000000</td>\n",
       "      <td>2401.000000</td>\n",
       "      <td>0.000000</td>\n",
       "      <td>0.000000</td>\n",
       "      <td>0.000000</td>\n",
       "      <td>1.000000</td>\n",
       "      <td>3.000000</td>\n",
       "      <td>4.000000</td>\n",
       "    </tr>\n",
       "    <tr>\n",
       "      <th>75%</th>\n",
       "      <td>0.531250</td>\n",
       "      <td>0.500000</td>\n",
       "      <td>0.666667</td>\n",
       "      <td>5325.000000</td>\n",
       "      <td>0.461111</td>\n",
       "      <td>0.455556</td>\n",
       "      <td>0.451327</td>\n",
       "      <td>2.000000</td>\n",
       "      <td>4.000000</td>\n",
       "      <td>5.000000</td>\n",
       "    </tr>\n",
       "    <tr>\n",
       "      <th>max</th>\n",
       "      <td>6.734375</td>\n",
       "      <td>12.285714</td>\n",
       "      <td>12.666667</td>\n",
       "      <td>18823.000000</td>\n",
       "      <td>2.800000</td>\n",
       "      <td>29.550000</td>\n",
       "      <td>25.017699</td>\n",
       "      <td>4.000000</td>\n",
       "      <td>6.000000</td>\n",
       "      <td>7.000000</td>\n",
       "    </tr>\n",
       "  </tbody>\n",
       "</table>\n",
       "</div>"
      ],
      "text/plain": [
       "              carat         depth         table         price             x  \\\n",
       "count  53930.000000  53930.000000  53930.000000  53930.000000  53930.000000   \n",
       "mean       0.153087     -0.034141      0.152443   3933.054942      0.016666   \n",
       "std        0.740679      0.995064      0.744859   3989.628569      0.620071   \n",
       "min       -0.781250    -13.428571     -4.666667    326.000000     -6.705556   \n",
       "25%       -0.468750     -0.500000     -0.333333    950.000000     -0.538889   \n",
       "50%        0.000000      0.000000      0.000000   2401.000000      0.000000   \n",
       "75%        0.531250      0.500000      0.666667   5325.000000      0.461111   \n",
       "max        6.734375     12.285714     12.666667  18823.000000      2.800000   \n",
       "\n",
       "                  y             z   cut_encoded  color_encoded  \\\n",
       "count  53930.000000  53930.000000  53930.000000   53930.000000   \n",
       "mean       0.012701      0.007204      1.095939       2.594103   \n",
       "std        0.630921      0.627353      1.116593       1.701080   \n",
       "min       -6.844444     -6.716814      0.000000       0.000000   \n",
       "25%       -0.544444     -0.548673      0.000000       1.000000   \n",
       "50%        0.000000      0.000000      1.000000       3.000000   \n",
       "75%        0.455556      0.451327      2.000000       4.000000   \n",
       "max       29.550000     25.017699      4.000000       6.000000   \n",
       "\n",
       "       clarity_encoded  \n",
       "count     53930.000000  \n",
       "mean          3.949119  \n",
       "std           1.647181  \n",
       "min           0.000000  \n",
       "25%           3.000000  \n",
       "50%           4.000000  \n",
       "75%           5.000000  \n",
       "max           7.000000  "
      ]
     },
     "execution_count": 47,
     "metadata": {},
     "output_type": "execute_result"
    }
   ],
   "source": [
    "df.describe()"
   ]
  },
  {
   "cell_type": "markdown",
   "id": "57fe8735",
   "metadata": {},
   "source": [
    "Preprocessing finished!! 💯"
   ]
  },
  {
   "cell_type": "markdown",
   "id": "2b34ee6e",
   "metadata": {},
   "source": [
    "## Selecting features"
   ]
  },
  {
   "cell_type": "markdown",
   "id": "253236c2",
   "metadata": {},
   "source": [
    "First, let's investigate about correlation"
   ]
  },
  {
   "cell_type": "code",
   "execution_count": 48,
   "id": "cc857212",
   "metadata": {},
   "outputs": [
    {
     "data": {
      "image/png": "[encoded data removed]",
      "text/plain": [
       "<Figure size 640x480 with 2 Axes>"
      ]
     },
     "metadata": {},
     "output_type": "display_data"
    }
   ],
   "source": [
    "correlation_matrix = df.corr()\n",
    "\n",
    "column_names = correlation_matrix.columns\n",
    "sns.heatmap(correlation_matrix, xticklabels=column_names, yticklabels=column_names,cmap= \"bwr\");"
   ]
  },
  {
   "cell_type": "code",
   "execution_count": 49,
   "id": "11877708",
   "metadata": {},
   "outputs": [
    {
     "data": {
      "text/html": [
       "<div>\n",
       "<style scoped>\n",
       "    .dataframe tbody tr th:only-of-type {\n",
       "        vertical-align: middle;\n",
       "    }\n",
       "\n",
       "    .dataframe tbody tr th {\n",
       "        vertical-align: top;\n",
       "    }\n",
       "\n",
       "    .dataframe thead th {\n",
       "        text-align: right;\n",
       "    }\n",
       "</style>\n",
       "<table border=\"1\" class=\"dataframe\">\n",
       "  <thead>\n",
       "    <tr style=\"text-align: right;\">\n",
       "      <th></th>\n",
       "      <th>feature_1</th>\n",
       "      <th>feature_2</th>\n",
       "      <th>correlation</th>\n",
       "    </tr>\n",
       "  </thead>\n",
       "  <tbody>\n",
       "    <tr>\n",
       "      <th>3</th>\n",
       "      <td>carat</td>\n",
       "      <td>price</td>\n",
       "      <td>0.921590</td>\n",
       "    </tr>\n",
       "    <tr>\n",
       "      <th>30</th>\n",
       "      <td>price</td>\n",
       "      <td>carat</td>\n",
       "      <td>0.921590</td>\n",
       "    </tr>\n",
       "    <tr>\n",
       "      <th>34</th>\n",
       "      <td>price</td>\n",
       "      <td>x</td>\n",
       "      <td>0.872049</td>\n",
       "    </tr>\n",
       "    <tr>\n",
       "      <th>43</th>\n",
       "      <td>x</td>\n",
       "      <td>price</td>\n",
       "      <td>0.872049</td>\n",
       "    </tr>\n",
       "    <tr>\n",
       "      <th>53</th>\n",
       "      <td>y</td>\n",
       "      <td>price</td>\n",
       "      <td>0.861743</td>\n",
       "    </tr>\n",
       "    <tr>\n",
       "      <th>35</th>\n",
       "      <td>price</td>\n",
       "      <td>y</td>\n",
       "      <td>0.861743</td>\n",
       "    </tr>\n",
       "    <tr>\n",
       "      <th>63</th>\n",
       "      <td>z</td>\n",
       "      <td>price</td>\n",
       "      <td>0.857288</td>\n",
       "    </tr>\n",
       "    <tr>\n",
       "      <th>36</th>\n",
       "      <td>price</td>\n",
       "      <td>z</td>\n",
       "      <td>0.857288</td>\n",
       "    </tr>\n",
       "    <tr>\n",
       "      <th>83</th>\n",
       "      <td>color_encoded</td>\n",
       "      <td>price</td>\n",
       "      <td>0.172574</td>\n",
       "    </tr>\n",
       "    <tr>\n",
       "      <th>38</th>\n",
       "      <td>price</td>\n",
       "      <td>color_encoded</td>\n",
       "      <td>0.172574</td>\n",
       "    </tr>\n",
       "    <tr>\n",
       "      <th>39</th>\n",
       "      <td>price</td>\n",
       "      <td>clarity_encoded</td>\n",
       "      <td>0.146804</td>\n",
       "    </tr>\n",
       "    <tr>\n",
       "      <th>93</th>\n",
       "      <td>clarity_encoded</td>\n",
       "      <td>price</td>\n",
       "      <td>0.146804</td>\n",
       "    </tr>\n",
       "    <tr>\n",
       "      <th>32</th>\n",
       "      <td>price</td>\n",
       "      <td>table</td>\n",
       "      <td>0.127168</td>\n",
       "    </tr>\n",
       "    <tr>\n",
       "      <th>23</th>\n",
       "      <td>table</td>\n",
       "      <td>price</td>\n",
       "      <td>0.127168</td>\n",
       "    </tr>\n",
       "    <tr>\n",
       "      <th>73</th>\n",
       "      <td>cut_encoded</td>\n",
       "      <td>price</td>\n",
       "      <td>0.053506</td>\n",
       "    </tr>\n",
       "    <tr>\n",
       "      <th>37</th>\n",
       "      <td>price</td>\n",
       "      <td>cut_encoded</td>\n",
       "      <td>0.053506</td>\n",
       "    </tr>\n",
       "    <tr>\n",
       "      <th>13</th>\n",
       "      <td>depth</td>\n",
       "      <td>price</td>\n",
       "      <td>-0.009520</td>\n",
       "    </tr>\n",
       "    <tr>\n",
       "      <th>31</th>\n",
       "      <td>price</td>\n",
       "      <td>depth</td>\n",
       "      <td>-0.009520</td>\n",
       "    </tr>\n",
       "  </tbody>\n",
       "</table>\n",
       "</div>"
      ],
      "text/plain": [
       "          feature_1        feature_2  correlation\n",
       "3             carat            price     0.921590\n",
       "30            price            carat     0.921590\n",
       "34            price                x     0.872049\n",
       "43                x            price     0.872049\n",
       "53                y            price     0.861743\n",
       "35            price                y     0.861743\n",
       "63                z            price     0.857288\n",
       "36            price                z     0.857288\n",
       "83    color_encoded            price     0.172574\n",
       "38            price    color_encoded     0.172574\n",
       "39            price  clarity_encoded     0.146804\n",
       "93  clarity_encoded            price     0.146804\n",
       "32            price            table     0.127168\n",
       "23            table            price     0.127168\n",
       "73      cut_encoded            price     0.053506\n",
       "37            price      cut_encoded     0.053506\n",
       "13            depth            price    -0.009520\n",
       "31            price            depth    -0.009520"
      ]
     },
     "execution_count": 49,
     "metadata": {},
     "output_type": "execute_result"
    }
   ],
   "source": [
    "# Converting the correlation matrix into a DataFrame\n",
    "corr_df = correlation_matrix.stack().reset_index()\n",
    "\n",
    "# Renaming the columns\n",
    "corr_df.columns = ['feature_1','feature_2', 'correlation']\n",
    "\n",
    "# Remove \"self correlations\"\n",
    "no_self_correlation = (corr_df['feature_1'] != corr_df['feature_2'])\n",
    "corr_df = corr_df[no_self_correlation]\n",
    "\n",
    "# Filter the DataFrame to include only the combinations containing the 'price' feature\n",
    "price_correlations = corr_df[(corr_df['feature_1'] == 'price') | (corr_df['feature_2'] == 'price')]\n",
    "\n",
    "# Sort the DataFrame by the absolute correlation value in descending order\n",
    "price_correlations_sorted = price_correlations.reindex(price_correlations['correlation'].abs().sort_values(ascending=False).index)\n",
    "\n",
    "# Display the combinations of features related to 'price' sorted by correlation\n",
    "price_correlations_sorted"
   ]
  },
  {
   "cell_type": "markdown",
   "id": "3433563d",
   "metadata": {},
   "source": [
    "In consideration of our client's interest in determining the price of lost diamonds, we examined the relationship with this variable. We observed that the variables most strongly correlated are carat, x, y and z.\n",
    "\n",
    "Therefore, we will build the model based on this analysis."
   ]
  },
  {
   "cell_type": "markdown",
   "id": "234d299c",
   "metadata": {},
   "source": [
    "## Base modeling"
   ]
  },
  {
   "cell_type": "code",
   "execution_count": 50,
   "id": "d64234c2",
   "metadata": {},
   "outputs": [],
   "source": [
    "X = df.drop(columns=['price'])\n",
    "y = df['price']"
   ]
  },
  {
   "cell_type": "code",
   "execution_count": 51,
   "id": "8c5db341",
   "metadata": {},
   "outputs": [],
   "source": [
    "from sklearn.linear_model import LinearRegression\n",
    "from sklearn.model_selection import cross_validate"
   ]
  },
  {
   "cell_type": "code",
   "execution_count": 52,
   "id": "90337c18",
   "metadata": {
    "scrolled": false
   },
   "outputs": [
    {
     "data": {
      "text/plain": [
       "-3.442396171493109"
      ]
     },
     "execution_count": 52,
     "metadata": {},
     "output_type": "execute_result"
    }
   ],
   "source": [
    "model = LinearRegression()\n",
    "\n",
    "cv_results = cross_validate(model, X, y, cv=5)\n",
    "\n",
    "base_model_score = cv_results['test_score'].mean()\n",
    "base_model_score"
   ]
  },
  {
   "cell_type": "markdown",
   "id": "b45da834",
   "metadata": {},
   "source": [
    "We see that the results are terrible."
   ]
  },
  {
   "cell_type": "markdown",
   "id": "0428ba7a",
   "metadata": {},
   "source": [
    "## Modelling with selecting features"
   ]
  },
  {
   "cell_type": "markdown",
   "id": "ae7d65da",
   "metadata": {},
   "source": [
    "We're going to use the most correlated variables"
   ]
  },
  {
   "cell_type": "code",
   "execution_count": 53,
   "id": "f47474fc",
   "metadata": {},
   "outputs": [
    {
     "data": {
      "text/plain": [
       "-1.7895715590164811"
      ]
     },
     "execution_count": 53,
     "metadata": {},
     "output_type": "execute_result"
    }
   ],
   "source": [
    "X_selected = X[['carat', 'x', 'y', 'z']]\n",
    "y = df['price']\n",
    "\n",
    "model = LinearRegression()\n",
    "\n",
    "cv_results = cross_validate(model, X_selected, y, cv=10)\n",
    "\n",
    "simplified_model_score = cv_results['test_score'].mean()\n",
    "\n",
    "simplified_model_score"
   ]
  },
  {
   "cell_type": "markdown",
   "id": "f9712d40",
   "metadata": {},
   "source": [
    "Still very bad"
   ]
  },
  {
   "cell_type": "markdown",
   "id": "9423ca14",
   "metadata": {},
   "source": [
    "## Train / Test split"
   ]
  },
  {
   "cell_type": "code",
   "execution_count": 54,
   "id": "14edb85b",
   "metadata": {},
   "outputs": [],
   "source": [
    "from sklearn.model_selection import train_test_split"
   ]
  },
  {
   "cell_type": "code",
   "execution_count": 55,
   "id": "49686e27",
   "metadata": {},
   "outputs": [],
   "source": [
    "X_train, X_test, y_train, y_test = train_test_split(X, y, test_size=0.3, random_state=0)"
   ]
  },
  {
   "cell_type": "markdown",
   "id": "ac470638",
   "metadata": {},
   "source": [
    "## Baseline KNN model"
   ]
  },
  {
   "cell_type": "code",
   "execution_count": 56,
   "id": "05d19b1e",
   "metadata": {},
   "outputs": [],
   "source": [
    "from sklearn.neighbors import KNeighborsRegressor\n",
    "from sklearn.model_selection import cross_validate"
   ]
  },
  {
   "cell_type": "code",
   "execution_count": 57,
   "id": "01ceebcc",
   "metadata": {},
   "outputs": [
    {
     "data": {
      "text/plain": [
       "{'fit_time': array([0.03756499, 0.0233674 , 0.02464986, 0.02468443, 0.02823067]),\n",
       " 'score_time': array([0.13906598, 0.09609485, 0.10001945, 0.10767817, 0.09576416]),\n",
       " 'test_score': array([0.93766258, 0.9361046 , 0.9335742 , 0.94049265, 0.93693314])}"
      ]
     },
     "execution_count": 57,
     "metadata": {},
     "output_type": "execute_result"
    }
   ],
   "source": [
    "knn = KNeighborsRegressor(n_neighbors=1)\n",
    "cv_results = cross_validate(knn, X_train, y_train, cv=5)\n",
    "cv_results"
   ]
  },
  {
   "cell_type": "markdown",
   "id": "ccc39ff2",
   "metadata": {},
   "source": [
    "Let's try only with the most correlated variables"
   ]
  },
  {
   "cell_type": "code",
   "execution_count": 58,
   "id": "febec7ae",
   "metadata": {},
   "outputs": [],
   "source": [
    "X_train, X_test, y_train, y_test = train_test_split(X_selected, y, test_size=0.3, random_state=0)"
   ]
  },
  {
   "cell_type": "code",
   "execution_count": 59,
   "id": "b0a56a6c",
   "metadata": {
    "scrolled": true
   },
   "outputs": [
    {
     "data": {
      "text/plain": [
       "{'fit_time': array([0.01672935, 0.01350808, 0.01390433, 0.01391506, 0.01670122]),\n",
       " 'score_time': array([0.01921582, 0.01875448, 0.01956367, 0.01742363, 0.01874328]),\n",
       " 'test_score': array([0.78164093, 0.78075018, 0.77324788, 0.77819251, 0.78081169])}"
      ]
     },
     "execution_count": 59,
     "metadata": {},
     "output_type": "execute_result"
    }
   ],
   "source": [
    "knn = KNeighborsRegressor(n_neighbors=1)\n",
    "cv_results = cross_validate(knn, X_train, y_train, cv=5)\n",
    "cv_results"
   ]
  },
  {
   "cell_type": "markdown",
   "id": "e2a24782",
   "metadata": {},
   "source": [
    "The first model with all the variables is better, we will continue with all variables."
   ]
  },
  {
   "cell_type": "markdown",
   "id": "33fade22",
   "metadata": {},
   "source": [
    "## Gridsearch"
   ]
  },
  {
   "cell_type": "code",
   "execution_count": 60,
   "id": "107b49cd",
   "metadata": {},
   "outputs": [],
   "source": [
    "X_train, X_test, y_train, y_test = train_test_split(X, y, test_size=0.3, random_state=0)"
   ]
  },
  {
   "cell_type": "code",
   "execution_count": 61,
   "id": "d3020717",
   "metadata": {},
   "outputs": [
    {
     "data": {
      "text/html": [
       "<style>#sk-container-id-1 {color: black;}#sk-container-id-1 pre{padding: 0;}#sk-container-id-1 div.sk-toggleable {background-color: white;}#sk-container-id-1 label.sk-toggleable__label {cursor: pointer;display: block;width: 100%;margin-bottom: 0;padding: 0.3em;box-sizing: border-box;text-align: center;}#sk-container-id-1 label.sk-toggleable__label-arrow:before {content: \"▸\";float: left;margin-right: 0.25em;color: #696969;}#sk-container-id-1 label.sk-toggleable__label-arrow:hover:before {color: black;}#sk-container-id-1 div.sk-estimator:hover label.sk-toggleable__label-arrow:before {color: black;}#sk-container-id-1 div.sk-toggleable__content {max-height: 0;max-width: 0;overflow: hidden;text-align: left;background-color: #f0f8ff;}#sk-container-id-1 div.sk-toggleable__content pre {margin: 0.2em;color: black;border-radius: 0.25em;background-color: #f0f8ff;}#sk-container-id-1 input.sk-toggleable__control:checked~div.sk-toggleable__content {max-height: 200px;max-width: 100%;overflow: auto;}#sk-container-id-1 input.sk-toggleable__control:checked~label.sk-toggleable__label-arrow:before {content: \"▾\";}#sk-container-id-1 div.sk-estimator input.sk-toggleable__control:checked~label.sk-toggleable__label {background-color: #d4ebff;}#sk-container-id-1 div.sk-label input.sk-toggleable__control:checked~label.sk-toggleable__label {background-color: #d4ebff;}#sk-container-id-1 input.sk-hidden--visually {border: 0;clip: rect(1px 1px 1px 1px);clip: rect(1px, 1px, 1px, 1px);height: 1px;margin: -1px;overflow: hidden;padding: 0;position: absolute;width: 1px;}#sk-container-id-1 div.sk-estimator {font-family: monospace;background-color: #f0f8ff;border: 1px dotted black;border-radius: 0.25em;box-sizing: border-box;margin-bottom: 0.5em;}#sk-container-id-1 div.sk-estimator:hover {background-color: #d4ebff;}#sk-container-id-1 div.sk-parallel-item::after {content: \"\";width: 100%;border-bottom: 1px solid gray;flex-grow: 1;}#sk-container-id-1 div.sk-label:hover label.sk-toggleable__label {background-color: #d4ebff;}#sk-container-id-1 div.sk-serial::before {content: \"\";position: absolute;border-left: 1px solid gray;box-sizing: border-box;top: 0;bottom: 0;left: 50%;z-index: 0;}#sk-container-id-1 div.sk-serial {display: flex;flex-direction: column;align-items: center;background-color: white;padding-right: 0.2em;padding-left: 0.2em;position: relative;}#sk-container-id-1 div.sk-item {position: relative;z-index: 1;}#sk-container-id-1 div.sk-parallel {display: flex;align-items: stretch;justify-content: center;background-color: white;position: relative;}#sk-container-id-1 div.sk-item::before, #sk-container-id-1 div.sk-parallel-item::before {content: \"\";position: absolute;border-left: 1px solid gray;box-sizing: border-box;top: 0;bottom: 0;left: 50%;z-index: -1;}#sk-container-id-1 div.sk-parallel-item {display: flex;flex-direction: column;z-index: 1;position: relative;background-color: white;}#sk-container-id-1 div.sk-parallel-item:first-child::after {align-self: flex-end;width: 50%;}#sk-container-id-1 div.sk-parallel-item:last-child::after {align-self: flex-start;width: 50%;}#sk-container-id-1 div.sk-parallel-item:only-child::after {width: 0;}#sk-container-id-1 div.sk-dashed-wrapped {border: 1px dashed gray;margin: 0 0.4em 0.5em 0.4em;box-sizing: border-box;padding-bottom: 0.4em;background-color: white;}#sk-container-id-1 div.sk-label label {font-family: monospace;font-weight: bold;display: inline-block;line-height: 1.2em;}#sk-container-id-1 div.sk-label-container {text-align: center;}#sk-container-id-1 div.sk-container {/* jupyter's `normalize.less` sets `[hidden] { display: none; }` but bootstrap.min.css set `[hidden] { display: none !important; }` so we also need the `!important` here to be able to override the default hidden behavior on the sphinx rendered scikit-learn.org. See: https://github.com/scikit-learn/scikit-learn/issues/21755 */display: inline-block !important;position: relative;}#sk-container-id-1 div.sk-text-repr-fallback {display: none;}</style><div id=\"sk-container-id-1\" class=\"sk-top-container\"><div class=\"sk-text-repr-fallback\"><pre>GridSearchCV(cv=5, estimator=KNeighborsRegressor(), n_jobs=-1,\n",
       "             param_grid={&#x27;n_neighbors&#x27;: [1, 5, 10, 20, 50]})</pre><b>In a Jupyter environment, please rerun this cell to show the HTML representation or trust the notebook. <br />On GitHub, the HTML representation is unable to render, please try loading this page with nbviewer.org.</b></div><div class=\"sk-container\" hidden><div class=\"sk-item sk-dashed-wrapped\"><div class=\"sk-label-container\"><div class=\"sk-label sk-toggleable\"><input class=\"sk-toggleable__control sk-hidden--visually\" id=\"sk-estimator-id-1\" type=\"checkbox\" ><label for=\"sk-estimator-id-1\" class=\"sk-toggleable__label sk-toggleable__label-arrow\">GridSearchCV</label><div class=\"sk-toggleable__content\"><pre>GridSearchCV(cv=5, estimator=KNeighborsRegressor(), n_jobs=-1,\n",
       "             param_grid={&#x27;n_neighbors&#x27;: [1, 5, 10, 20, 50]})</pre></div></div></div><div class=\"sk-parallel\"><div class=\"sk-parallel-item\"><div class=\"sk-item\"><div class=\"sk-label-container\"><div class=\"sk-label sk-toggleable\"><input class=\"sk-toggleable__control sk-hidden--visually\" id=\"sk-estimator-id-2\" type=\"checkbox\" ><label for=\"sk-estimator-id-2\" class=\"sk-toggleable__label sk-toggleable__label-arrow\">estimator: KNeighborsRegressor</label><div class=\"sk-toggleable__content\"><pre>KNeighborsRegressor()</pre></div></div></div><div class=\"sk-serial\"><div class=\"sk-item\"><div class=\"sk-estimator sk-toggleable\"><input class=\"sk-toggleable__control sk-hidden--visually\" id=\"sk-estimator-id-3\" type=\"checkbox\" ><label for=\"sk-estimator-id-3\" class=\"sk-toggleable__label sk-toggleable__label-arrow\">KNeighborsRegressor</label><div class=\"sk-toggleable__content\"><pre>KNeighborsRegressor()</pre></div></div></div></div></div></div></div></div></div></div>"
      ],
      "text/plain": [
       "GridSearchCV(cv=5, estimator=KNeighborsRegressor(), n_jobs=-1,\n",
       "             param_grid={'n_neighbors': [1, 5, 10, 20, 50]})"
      ]
     },
     "execution_count": 61,
     "metadata": {},
     "output_type": "execute_result"
    }
   ],
   "source": [
    "from sklearn.model_selection import GridSearchCV\n",
    "from sklearn.neighbors import KNeighborsRegressor\n",
    "\n",
    "# Instantiate model\n",
    "model = KNeighborsRegressor()\n",
    "\n",
    "# Hyperparameter Grid\n",
    "k_grid = {'n_neighbors':[1, 5, 10, 20, 50]}\n",
    "\n",
    "# Instantiate Grid Search\n",
    "grid = GridSearchCV(model, k_grid, cv=5, n_jobs=-1)\n",
    "\n",
    "# Fit data to Grid Search\n",
    "grid.fit(X_train, y_train)"
   ]
  },
  {
   "cell_type": "markdown",
   "id": "7418022a",
   "metadata": {},
   "source": [
    "According to the GridSearch, what is the optimal K value?"
   ]
  },
  {
   "cell_type": "code",
   "execution_count": 62,
   "id": "e859224d",
   "metadata": {
    "scrolled": false
   },
   "outputs": [
    {
     "data": {
      "text/plain": [
       "{'n_neighbors': 10}"
      ]
     },
     "execution_count": 62,
     "metadata": {},
     "output_type": "execute_result"
    }
   ],
   "source": [
    "grid.best_params_"
   ]
  },
  {
   "cell_type": "markdown",
   "id": "a9801dea",
   "metadata": {},
   "source": [
    "What is the best score the optimal K value produced?"
   ]
  },
  {
   "cell_type": "code",
   "execution_count": 63,
   "id": "ada118f2",
   "metadata": {},
   "outputs": [
    {
     "data": {
      "text/plain": [
       "0.9544107793169754"
      ]
     },
     "execution_count": 63,
     "metadata": {},
     "output_type": "execute_result"
    }
   ],
   "source": [
    "grid.best_score_"
   ]
  },
  {
   "cell_type": "markdown",
   "id": "0a56516a",
   "metadata": {},
   "source": [
    "## Final decision"
   ]
  },
  {
   "cell_type": "markdown",
   "id": "d44d90f8",
   "metadata": {},
   "source": [
    "Comparing the four models, the K-Nearest Neighbors model with all variables and 10 neighbors is clearly superior due to its higher score. This model provides better predictive capability and explains a larger proportion of the variability in diamond prices."
   ]
  }
 ],
 "metadata": {
  "kernelspec": {
   "display_name": "Python 3 (ipykernel)",
   "language": "python",
   "name": "python3"
  },
  "language_info": {
   "codemirror_mode": {
    "name": "ipython",
    "version": 3
   },
   "file_extension": ".py",
   "mimetype": "text/x-python",
   "name": "python",
   "nbconvert_exporter": "python",
   "pygments_lexer": "ipython3",
   "version": "3.10.6"
  },
  "toc": {
   "base_numbering": 1,
   "nav_menu": {},
   "number_sections": true,
   "sideBar": true,
   "skip_h1_title": false,
   "title_cell": "Table of Contents",
   "title_sidebar": "Contents",
   "toc_cell": false,
   "toc_position": {},
   "toc_section_display": true,
   "toc_window_display": false
  }
 },
 "nbformat": 4,
 "nbformat_minor": 5
}
